{
 "cells": [
  {
   "cell_type": "code",
   "execution_count": null,
   "id": "155fbd84-356a-42c0-99b5-39062961c295",
   "metadata": {},
   "outputs": [],
   "source": [
    "import json\n",
    "\n",
    "# Load the data from both files\n",
    "with open('quantum_bank.json', 'r') as f:\n",
    "    data1 = json.load(f)\n",
    "\n",
    "with open('GPT4_results.json', 'r') as f:\n",
    "    data2 = json.load(f)\n",
    "\n",
    "# Combine the data based on index\n",
    "for index, item in enumerate(data1):\n",
    "    try:\n",
    "        # Append 'question' from data1 to the corresponding item in data2\n",
    "        if index < len(data2):\n",
    "            data2[index]['question'] = item['Question']\n",
    "    except KeyError as e:\n",
    "        print(f\"A KeyError occurred: {e}. Item in data1: {item}\")\n",
    "\n",
    "# Save the combined data back into `file2.json` or a new file\n",
    "with open('GPT4_results_wq.json', 'w') as f:\n",
    "    json.dump(data2, f, indent=4)\n",
    "\n",
    "print(\"The files have been combined into combined.json.\")"
   ]
  }
 ],
 "metadata": {
  "kernelspec": {
   "display_name": "Python 3 (ipykernel)",
   "language": "python",
   "name": "python3"
  },
  "language_info": {
   "codemirror_mode": {
    "name": "ipython",
    "version": 3
   },
   "file_extension": ".py",
   "mimetype": "text/x-python",
   "name": "python",
   "nbconvert_exporter": "python",
   "pygments_lexer": "ipython3",
   "version": "3.10.11"
  }
 },
 "nbformat": 4,
 "nbformat_minor": 5
}
